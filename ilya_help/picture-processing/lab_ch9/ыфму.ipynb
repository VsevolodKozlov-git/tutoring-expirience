{
 "cells": [
  {
   "cell_type": "code",
   "execution_count": 221,
   "outputs": [],
   "source": [
    "def face_detection(img, X_train_trans, pca, frame_row, frame_col):\n",
    "    priority_queue = heapdict()\n",
    "    img_row, img_col = img.shape\n",
    "    for row in range(0, img_row-frame_row, 4):\n",
    "        for col in range(0, img_col-frame_col, 4):\n",
    "            frame = img[row:row+frame_row, col:col+frame_col]\n",
    "            X_frame = np.ravel(frame)\n",
    "            X_frame = X_frame[np.newaxis, :]\n",
    "            X_frame_trans = pca.transform(X_frame)\n",
    "            distances = np.linalg.norm(X_train_trans - X_frame_trans, axis=1)\n",
    "            priority_queue[(row, col)] = np.min(distances)\n",
    "    return priority_queue\n"
   ],
   "metadata": {
    "collapsed": false,
    "pycharm": {
     "name": "#%%\n"
    }
   }
  },
  {
   "cell_type": "code",
   "execution_count": 223,
   "outputs": [],
   "source": [
    "def get_top_pixels(n_pixels, priority_queue):\n",
    "    top_pixels = []\n",
    "    for _ in range(n_pixels):\n",
    "        row_col, _ = priority_queue.popitem()\n",
    "        top_pixels.append(row_col)\n",
    "    return top_pixels"
   ],
   "metadata": {
    "collapsed": false,
    "pycharm": {
     "name": "#%%\n"
    }
   }
  },
  {
   "cell_type": "code",
   "execution_count": 272,
   "outputs": [],
   "source": [
    "def draw_dots(img, row_col_list, square_size):\n",
    "    img_copy = np.copy(img)\n",
    "    for row, col in row_col_list:\n",
    "        img_copy[row:row+square_size, col:col+square_size] = 0\n",
    "    return img_copy"
   ],
   "metadata": {
    "collapsed": false,
    "pycharm": {
     "name": "#%%\n"
    }
   }
  },
  {
   "cell_type": "markdown",
   "source": [
    "### Используем изображение большой тройки"
   ],
   "metadata": {
    "collapsed": false
   }
  },
  {
   "cell_type": "code",
   "execution_count": null,
   "outputs": [],
   "source": [
    "big_3_img = img_as_float(imread('big_3_small.jpg'))\n",
    "imshow(big_3_img)"
   ],
   "metadata": {
    "collapsed": false,
    "pycharm": {
     "name": "#%%\n"
    }
   }
  },
  {
   "cell_type": "markdown",
   "source": [
    "Сравним с каким изображением похож Сталин и случайное изображение"
   ],
   "metadata": {
    "collapsed": false
   }
  },
  {
   "cell_type": "code",
   "execution_count": null,
   "outputs": [],
   "source": [
    "x = 90\n",
    "y = 40\n",
    "stalin = big_3_img[y:y+64, x:x+64]\n",
    "compare_images(stalin, 0, 0, pca)"
   ],
   "metadata": {
    "collapsed": false,
    "pycharm": {
     "name": "#%%\n"
    }
   }
  },
  {
   "cell_type": "code",
   "execution_count": null,
   "outputs": [],
   "source": [
    "compare_images(big_3_img, 10, 10, pca)"
   ],
   "metadata": {
    "collapsed": false,
    "pycharm": {
     "name": "#%%\n"
    }
   }
  },
  {
   "cell_type": "markdown",
   "source": [
    "Видим, что лицо Сталина имеет меньше схожести чем случайный фрагмент фона, что плохо для алгоритма"
   ],
   "metadata": {
    "collapsed": false
   }
  },
  {
   "cell_type": "markdown",
   "source": [
    "Найдем 100 самых похожих на лицо области"
   ],
   "metadata": {
    "collapsed": false
   }
  },
  {
   "cell_type": "code",
   "execution_count": null,
   "outputs": [],
   "source": [
    "priority_queue = face_detection(big_3_img[:, :400], X_lfw_trans, pca, 64, 64)\n",
    "top_pixels = get_top_pixels(4, priority_queue)"
   ],
   "metadata": {
    "collapsed": false,
    "pycharm": {
     "name": "#%%\n"
    }
   }
  },
  {
   "cell_type": "code",
   "execution_count": null,
   "outputs": [],
   "source": [
    "imshow(draw_dots(big_3_img, top_pixels, 3))"
   ],
   "metadata": {
    "collapsed": false,
    "pycharm": {
     "name": "#%%\n"
    }
   }
  },
  {
   "cell_type": "markdown",
   "source": [
    "## Используем фотографию beatles"
   ],
   "metadata": {
    "collapsed": false
   }
  },
  {
   "cell_type": "code",
   "execution_count": null,
   "outputs": [],
   "source": [
    "beatles_img = img_as_float(imread('Beatles.jpg', as_gray=True))\n",
    "imshow(beatles_img)"
   ],
   "metadata": {
    "collapsed": false,
    "pycharm": {
     "name": "#%%\n"
    }
   }
  },
  {
   "cell_type": "markdown",
   "source": [
    "Сравним результаты для лица и случайного фрагмента"
   ],
   "metadata": {
    "collapsed": false
   }
  },
  {
   "cell_type": "code",
   "execution_count": null,
   "outputs": [],
   "source": [
    "compare_images(beatles_img, 115, 115, pca)"
   ],
   "metadata": {
    "collapsed": false,
    "pycharm": {
     "name": "#%%\n"
    }
   }
  },
  {
   "cell_type": "code",
   "execution_count": null,
   "outputs": [],
   "source": [
    "compare_images(beatles_img, 312, 328, pca)"
   ],
   "metadata": {
    "collapsed": false,
    "pycharm": {
     "name": "#%%\n"
    }
   }
  },
  {
   "cell_type": "markdown",
   "source": [
    "Видим, что оценка лица гораздо ниже чем майки"
   ],
   "metadata": {
    "collapsed": false
   }
  },
  {
   "cell_type": "code",
   "execution_count": null,
   "outputs": [],
   "source": [
    "priority_queue = face_detection(beatles_img, X_lfw_trans, pca, 64, 64)\n",
    "top_pixels = get_top_pixels(100, priority_queue)"
   ],
   "metadata": {
    "collapsed": false,
    "pycharm": {
     "name": "#%%\n"
    }
   }
  },
  {
   "cell_type": "code",
   "execution_count": null,
   "outputs": [],
   "source": [
    "imshow(draw_dots(beatles_img, top_pixels, 5))"
   ],
   "metadata": {
    "collapsed": false,
    "pycharm": {
     "name": "#%%\n"
    }
   }
  },
  {
   "cell_type": "markdown",
   "source": [
    "Видим, что наш алгортм не справился с задачей. Посмотрем какие оценки он дает частям, которые действительно отвечают за лицо"
   ],
   "metadata": {
    "collapsed": false
   }
  }
 ],
 "metadata": {
  "kernelspec": {
   "display_name": "Python 3",
   "language": "python",
   "name": "python3"
  },
  "language_info": {
   "codemirror_mode": {
    "name": "ipython",
    "version": 2
   },
   "file_extension": ".py",
   "mimetype": "text/x-python",
   "name": "python",
   "nbconvert_exporter": "python",
   "pygments_lexer": "ipython2",
   "version": "2.7.6"
  }
 },
 "nbformat": 4,
 "nbformat_minor": 0
}