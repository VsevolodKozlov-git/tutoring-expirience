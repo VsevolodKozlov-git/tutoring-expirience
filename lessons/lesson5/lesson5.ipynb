{
 "cells": [
  {
   "cell_type": "markdown",
   "metadata": {
    "collapsed": true,
    "pycharm": {
     "name": "#%% md\n"
    }
   },
   "source": [
    "# Словари"
   ]
  },
  {
   "cell_type": "markdown",
   "source": [
    "# Вопросы"
   ],
   "metadata": {
    "collapsed": false,
    "pycharm": {
     "name": "#%% md\n"
    }
   }
  },
  {
   "cell_type": "markdown",
   "source": [
    "## Зачем нужны словари? Приведите пример использования"
   ],
   "metadata": {
    "collapsed": false,
    "pycharm": {
     "name": "#%% md\n"
    }
   }
  },
  {
   "cell_type": "markdown",
   "source": [
    "* Перечисление большого объема данных\n",
    "* Опрос\n",
    "* Структированное хранение данных"
   ],
   "metadata": {
    "collapsed": false,
    "pycharm": {
     "name": "#%% md\n"
    }
   }
  },
  {
   "cell_type": "markdown",
   "source": [
    "Словарь может показывать любые взаимотношениея типа один к одному, один ко многим\n",
    "\n",
    "Пример:\n",
    "- Показывать взаимоотношения друзей в социальной сети(социальный граф)\n",
    "- Работать как записная книжка\n",
    "- Хранить структурированную информацию"
   ],
   "metadata": {
    "collapsed": false
   }
  },
  {
   "cell_type": "code",
   "execution_count": 1,
   "outputs": [],
   "source": [
    "friends = {'seva': ['anton', 'igor'], 'anton': ['seva', 'vasy'], 'vasy':['anton']}"
   ],
   "metadata": {
    "collapsed": false,
    "pycharm": {
     "name": "#%%\n"
    }
   }
  },
  {
   "cell_type": "code",
   "execution_count": 2,
   "outputs": [],
   "source": [
    "phone_book = {'seva': '88005553535', 'taxi': '335335'}"
   ],
   "metadata": {
    "collapsed": false,
    "pycharm": {
     "name": "#%%\n"
    }
   }
  },
  {
   "cell_type": "code",
   "execution_count": 3,
   "outputs": [],
   "source": [
    "seva = {'имя': 'Сева', 'возраст': 19, 'курс': 1,  'программа': 'интеллектуальные системы в гуманитарной сфере'}"
   ],
   "metadata": {
    "collapsed": false,
    "pycharm": {
     "name": "#%%\n"
    }
   }
  },
  {
   "cell_type": "markdown",
   "source": [
    "Но зачастую словарь используется для быстрого поиска информации"
   ],
   "metadata": {
    "collapsed": false
   }
  },
  {
   "cell_type": "markdown",
   "source": [
    "Задача:\n",
    "У вас есть список с неповторяющимися значениями и число. Вам необходимо вывести индекс числа\n",
    "Пример:\n",
    "Список: [30, 2, 5, 1, 3, 0]\n",
    "Число: 3\n",
    "Ответ: 4\n"
   ],
   "metadata": {
    "collapsed": false
   }
  },
  {
   "cell_type": "markdown",
   "source": [
    "А теперь у нас такая же задача, только список вы переделываете в словарь, где ключи - числа, а значения - индексы. Насколько быстрее стал работать код?"
   ],
   "metadata": {
    "collapsed": false
   }
  },
  {
   "cell_type": "code",
   "execution_count": null,
   "outputs": [],
   "source": [],
   "metadata": {
    "collapsed": false,
    "pycharm": {
     "name": "#%%\n"
    }
   }
  },
  {
   "cell_type": "code",
   "execution_count": null,
   "outputs": [],
   "source": [
    "'''\n",
    "Задача: У вас есть список с неповторяющимися значениями и число.\n",
    "Вам необходимо вывести индекс числа\n",
    "Пример: Список: [30, 2, 5, 1, 3, 0]\n",
    "Число: 3\n",
    "Ответ: 4\n",
    "'''\n",
    "\n",
    "l = [30, 2, 5, 1, 3, 0]\n",
    "a_1 = 3\n",
    "for ind, val in enumerate(l):\n",
    "    if a_1 == val:\n",
    "        print(ind)\n",
    "        break\n",
    "\n",
    "l = {30: 0, 2: 1, 5: 2, 1: 3, 3: 4, 0: 5}\n",
    "print(l[a_1])"
   ],
   "metadata": {
    "collapsed": false,
    "pycharm": {
     "name": "#%%\n"
    }
   }
  },
  {
   "cell_type": "markdown",
   "source": [
    "Более приближенная к жизни задача:\n",
    "Пусть у нас имеются два списка одинаковой длины prices - цены, fruits - это фрукты на эти цены. Причем prices[0] - это цена на фрукт fruits[0]. Вы продавец и ваша задача по названию фрукта выдать цену.\n",
    "Пример:\n",
    "prices: [10, 30, 20]\n",
    "fruits: ['яблоко', 'банан', 'апельсин']\n",
    "fruir: 'банан'\n",
    "ответ: 30"
   ],
   "metadata": {
    "collapsed": false
   }
  },
  {
   "cell_type": "markdown",
   "source": [
    "Как совместить списки prices и fruits в словарь, чтобы когда нам давали название фрукта мы выдавали его цену?"
   ],
   "metadata": {
    "collapsed": false
   }
  },
  {
   "cell_type": "markdown",
   "source": [
    "## Словари - это изменяемый или неизменяемый тип данных?"
   ],
   "metadata": {
    "collapsed": false,
    "pycharm": {
     "name": "#%% md\n"
    }
   }
  },
  {
   "cell_type": "markdown",
   "source": [
    "## Чем словари отличаются от списков? А чем они схожи?"
   ],
   "metadata": {
    "collapsed": false
   }
  },
  {
   "cell_type": "markdown",
   "source": [
    "## Как добавить несколько элементов с одинаковым ключом в словарь?"
   ],
   "metadata": {
    "collapsed": false
   }
  },
  {
   "cell_type": "markdown",
   "source": [
    "## Какого типа данных могут быть ключи? Значения?"
   ],
   "metadata": {
    "collapsed": false
   }
  },
  {
   "cell_type": "markdown",
   "source": [
    "## Как перебрать все ключи в словаре? Значения? Пары ключ, значение?"
   ],
   "metadata": {
    "collapsed": false
   }
  },
  {
   "cell_type": "markdown",
   "source": [
    "## Зачем нужен метод get у словарей, когда значения можно получать по ключу при помощи квадратных скобок?"
   ],
   "metadata": {
    "collapsed": false
   }
  },
  {
   "cell_type": "markdown",
   "source": [
    "## Насколько может быть глубоким вложение словарей(словарь в словаре, в котором находится словарь)?"
   ],
   "metadata": {
    "collapsed": false,
    "pycharm": {
     "name": "#%% md\n"
    }
   }
  }
 ],
 "metadata": {
  "kernelspec": {
   "display_name": "Python 3",
   "language": "python",
   "name": "python3"
  },
  "language_info": {
   "codemirror_mode": {
    "name": "ipython",
    "version": 2
   },
   "file_extension": ".py",
   "mimetype": "text/x-python",
   "name": "python",
   "nbconvert_exporter": "python",
   "pygments_lexer": "ipython2",
   "version": "2.7.6"
  }
 },
 "nbformat": 4,
 "nbformat_minor": 0
}