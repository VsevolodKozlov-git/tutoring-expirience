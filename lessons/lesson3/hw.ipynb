{
 "cells": [
  {
   "cell_type": "markdown",
   "source": [
    "# Разбор задач"
   ],
   "metadata": {
    "collapsed": false
   }
  },
  {
   "cell_type": "markdown",
   "source": [
    " Проблема 1\n",
    "\n",
    "Дается целое число n.\n",
    "\n",
    "Вывести:\n",
    "* 'Weird', если число нечетное\n",
    "* 'Not Weird', если число четное и находится в промежутку [2, 5]\n",
    "* 'Weird', если число четное и находится в промежутке [6, 20]\n",
    "* 'Not Weird', если число четно и больше 20\n",
    "\n",
    "\n",
    "\n",
    "Подсказка: загуглите как проверить число на нечетность/четность\n",
    "\n",
    "[Проверить решение](https://www.hackerrank.com/challenges/py-if-else/problem?isFullScreen=true)\n"
   ],
   "metadata": {
    "collapsed": false
   }
  },
  {
   "cell_type": "code",
   "execution_count": 2,
   "outputs": [
    {
     "name": "stdout",
     "output_type": "stream",
     "text": [
      "Not Weird\n"
     ]
    }
   ],
   "source": [
    "n = 30\n",
    "weird = 'Weird'\n",
    "n_weird = 'Not Weird'\n",
    "if n % 2 == 1:\n",
    "    print(weird)\n",
    "elif 2 <= n <= 5:\n",
    "    print(n_weird)\n",
    "elif 6 <= n <= 20:\n",
    "    print(weird)\n",
    "else:\n",
    "    print(n_weird)"
   ],
   "metadata": {
    "collapsed": false,
    "pycharm": {
     "name": "#%%\n"
    }
   }
  },
  {
   "cell_type": "markdown",
   "source": [
    "Проблема 2\n",
    "\n",
    "Имеется спискок, содержащий время, потраченное спортсменами на марафон. Найдите время спортсмена, который прибежал вторым?\n",
    "\n",
    "a) С использованием сортировки\n",
    "б) Без использования сортировки\n",
    "\n",
    "\n",
    "[Проверить решение](https://www.hackerrank.com/challenges/find-second-maximum-number-in-a-list/problem?isFullScreen=true)"
   ],
   "metadata": {
    "collapsed": false
   }
  },
  {
   "cell_type": "code",
   "execution_count": 3,
   "outputs": [
    {
     "name": "stdout",
     "output_type": "stream",
     "text": [
      "5\n"
     ]
    }
   ],
   "source": [
    "run_times = [2, 3, 6, 6, 5]\n",
    "n = len(run_times)\n",
    "sorted_run_times = sorted(run_times, reverse=True)\n",
    "\n",
    "first = sorted_run_times[0]\n",
    "second_flag = True\n",
    "\n",
    "for time in sorted_run_times[1:]:\n",
    "    if second_flag and time !=first:\n",
    "        second = time\n",
    "        second_flag = False\n",
    "print(second)"
   ],
   "metadata": {
    "collapsed": false,
    "pycharm": {
     "name": "#%%\n"
    }
   }
  },
  {
   "cell_type": "code",
   "execution_count": 4,
   "outputs": [
    {
     "name": "stdout",
     "output_type": "stream",
     "text": [
      "5\n"
     ]
    }
   ],
   "source": [
    "\n",
    "first = max(run_times)\n",
    "second = -101\n",
    "for time in run_times:\n",
    "    if second < time < first:\n",
    "        second = time\n",
    "print(second)"
   ],
   "metadata": {
    "collapsed": false,
    "pycharm": {
     "name": "#%%\n"
    }
   }
  },
  {
   "cell_type": "markdown",
   "source": [
    "Проблема 3\n",
    "\n",
    "Есть строка string, а есть строка sub_string. Ваша задача проверить сколько раз sub_string появляется в  string\n",
    "\n",
    "Пример:\n",
    "\n",
    "string = ABCDCDC\n",
    "sub_string = CDC\n",
    "Ответ: 2\n",
    "\n",
    "[Проверить решение](https://www.hackerrank.com/challenges/find-a-string/problem?isFullScreen=true)\n",
    "\n",
    "Подсказка: строки индекисруются как списки. Например..."
   ],
   "metadata": {
    "collapsed": false
   }
  },
  {
   "cell_type": "code",
   "execution_count": 5,
   "outputs": [
    {
     "name": "stdout",
     "output_type": "stream",
     "text": [
      "2\n"
     ]
    }
   ],
   "source": [
    "string = 'ABCDCDC'\n",
    "sub_string = 'CDC'\n",
    "sub_len = len(sub_string)\n",
    "cnt = 0\n",
    "for start in range(len(string)-sub_len+1):\n",
    "    if string[start: start+sub_len] == sub_string:\n",
    "        cnt = cnt + 1\n",
    "print(cnt)"
   ],
   "metadata": {
    "collapsed": false,
    "pycharm": {
     "name": "#%%\n"
    }
   }
  },
  {
   "cell_type": "code",
   "execution_count": 6,
   "outputs": [],
   "source": [
    "def wrap(string, max_width):\n",
    "    n = len(string)\n",
    "    insertions = n // max_width\n",
    "\n",
    "    for i in range(max_width, n+insertions, max_width+1):\n",
    "        string = string[:i] + '\\n' + string[i:]\n",
    "    return string"
   ],
   "metadata": {
    "collapsed": false,
    "pycharm": {
     "name": "#%%\n"
    }
   }
  },
  {
   "cell_type": "code",
   "execution_count": 7,
   "outputs": [
    {
     "name": "stdout",
     "output_type": "stream",
     "text": [
      "1234\n",
      "5678\n",
      "9123\n",
      "\n"
     ]
    }
   ],
   "source": [
    "print(wrap('123456789123', 4))"
   ],
   "metadata": {
    "collapsed": false,
    "pycharm": {
     "name": "#%%\n"
    }
   }
  }
 ],
 "metadata": {
  "kernelspec": {
   "display_name": "Python 3",
   "language": "python",
   "name": "python3"
  },
  "language_info": {
   "codemirror_mode": {
    "name": "ipython",
    "version": 2
   },
   "file_extension": ".py",
   "mimetype": "text/x-python",
   "name": "python",
   "nbconvert_exporter": "python",
   "pygments_lexer": "ipython2",
   "version": "2.7.6"
  }
 },
 "nbformat": 4,
 "nbformat_minor": 0
}