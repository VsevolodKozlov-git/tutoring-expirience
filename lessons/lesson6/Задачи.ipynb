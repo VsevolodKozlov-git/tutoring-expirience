{
 "cells": [
  {
   "cell_type": "markdown",
   "source": [
    "### Найти kanban доска"
   ],
   "metadata": {
    "collapsed": false,
    "pycharm": {
     "name": "#%% md\n"
    }
   }
  },
  {
   "cell_type": "markdown",
   "source": [
    "1. Читаем все задачи и при надобности переформлурием их/разбираемся в условии\n",
    "2. Начинаем с самых простых\n",
    "3. Ставим теймер(30 минут - 1 час)\n",
    "4. Еслт по окончании таймера не смогли решить, то переходим на другую задачу\n",
    "5. Если и второй заходит неудачен, то смотрим решение"
   ],
   "metadata": {
    "collapsed": false,
    "pycharm": {
     "name": "#%% md\n"
    }
   }
  },
  {
   "cell_type": "markdown",
   "source": [
    "Найдите сумму положительных чисел в списке\n",
    "\n",
    "https://www.codewars.com/kata/5715eaedb436cf5606000381/train/python"
   ],
   "metadata": {
    "collapsed": false
   }
  },
  {
   "cell_type": "markdown",
   "source": [
    "Найдите наименьшее число в списке\n",
    "\n",
    "https://www.codewars.com/kata/55a2d7ebe362935a210000b2/train/python"
   ],
   "metadata": {
    "collapsed": false
   }
  },
  {
   "cell_type": "markdown",
   "source": [
    "Уберите все пробелы в строке\n",
    "\n",
    "https://www.codewars.com/kata/57eae20f5500ad98e50002c5"
   ],
   "metadata": {
    "collapsed": false
   }
  },
  {
   "cell_type": "markdown",
   "source": [
    "Можно ли разделить число n на x и y\n",
    "\n",
    "https://www.codewars.com/kata/5545f109004975ea66000086/train/python\n"
   ],
   "metadata": {
    "collapsed": false
   }
  },
  {
   "cell_type": "markdown",
   "source": [
    "Каждый час езды на велосипеде вы выпиваете по поллитра воды. Ваша задача вывести сколько целых литров воды вы выпили на текущий момент\n",
    "\n",
    "https://www.codewars.com/kata/582cb0224e56e068d800003c/train/python\n",
    "`time = 3 ----> litres = 1`\n",
    "`time = 6.7---> litres = 3`\n",
    "`time = 11.8--> litres = 5`"
   ],
   "metadata": {
    "collapsed": false
   }
  },
  {
   "cell_type": "markdown",
   "source": [
    "Вам дан список строк и один раз в этом списке встречается строка 'needle'. Верните индекс этой строки\n",
    "\n",
    "https://www.codewars.com/kata/56676e8fabd2d1ff3000000c/train/python\n",
    "\n",
    "`['hay', 'junk', 'hay', 'hay', 'moreJunk', 'needle', 'randomJunk'] -> 5`\n"
   ],
   "metadata": {
    "collapsed": false
   }
  },
  {
   "cell_type": "markdown",
   "source": [
    "У вас есть список чисел, верните этот же список только со всеми значениями умноженными на 2\n",
    "\n",
    "https://www.codewars.com/kata/57f781872e3d8ca2a000007e/train/python\n"
   ],
   "metadata": {
    "collapsed": false
   }
  },
  {
   "cell_type": "markdown",
   "source": [
    "У вас есть список чисел, верните этот же спикок только поменяв знак всех чисел\n",
    "\n",
    "https://www.codewars.com/kata/5899dc03bc95b1bf1b0000ad/train/python"
   ],
   "metadata": {
    "collapsed": false
   }
  },
  {
   "cell_type": "markdown",
   "source": [
    "Вам дано число n,  верните список всех целых чисел от 1 до n включительно\n",
    "\n",
    "https://www.codewars.com/kata/56f69d9f9400f508fb000ba7/train/python\n",
    "`10 --> [1, 2, 3, 4, 5, 6, 7, 8, 9, 10]`\n",
    "`1 --> [1]`"
   ],
   "metadata": {
    "collapsed": false
   }
  },
  {
   "cell_type": "markdown",
   "source": [],
   "metadata": {
    "collapsed": false,
    "pycharm": {
     "name": "#%% md\n"
    }
   }
  }
 ],
 "metadata": {
  "kernelspec": {
   "display_name": "Python 3",
   "language": "python",
   "name": "python3"
  },
  "language_info": {
   "codemirror_mode": {
    "name": "ipython",
    "version": 2
   },
   "file_extension": ".py",
   "mimetype": "text/x-python",
   "name": "python",
   "nbconvert_exporter": "python",
   "pygments_lexer": "ipython2",
   "version": "2.7.6"
  }
 },
 "nbformat": 4,
 "nbformat_minor": 0
}