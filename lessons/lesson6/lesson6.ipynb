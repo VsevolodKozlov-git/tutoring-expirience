{
 "cells": [
  {
   "cell_type": "markdown",
   "metadata": {
    "collapsed": true,
    "pycharm": {
     "name": "#%% md\n"
    }
   },
   "source": [
    "# Думай как программист"
   ]
  },
  {
   "cell_type": "markdown",
   "source": [
    "###  Задача"
   ],
   "metadata": {
    "collapsed": false,
    "pycharm": {
     "name": "#%% md\n"
    }
   }
  },
  {
   "cell_type": "markdown",
   "source": [
    "Начальные условия: у вас есть список информации о банках. Про каждый банк вы знаете: количество ваших сбережений в банке и страну банка.\n",
    "Формат хранениея: [(страна_банка_1, кол_во_сбережений_в_банке_1), (страна_банка_2, кол_во_сбережений_в_банке_2) ...]\n",
    "Цель: Узнать сколько у вас всего сбережений, но учтите, что из-за санкций все деньги, находящиеся НЕ в ройссийских банках уже больше не принадлежат вам\n",
    "\n",
    "Пример входных данных:\n",
    "`[('rus', 1000), ('ger', 30000), ('rus', 40000), ('itl', 10000), ('usa', 30000)]`\n",
    "Ответ:\n",
    "41000\n",
    "\n"
   ],
   "metadata": {
    "collapsed": false,
    "pycharm": {
     "name": "#%% md\n"
    }
   }
  },
  {
   "cell_type": "markdown",
   "source": [
    "## Переформулируйте/обобщите задачу"
   ],
   "metadata": {
    "collapsed": false,
    "pycharm": {
     "name": "#%% md\n"
    }
   }
  },
  {
   "cell_type": "markdown",
   "source": [
    "Краткость - сестра таланта"
   ],
   "metadata": {
    "collapsed": false,
    "pycharm": {
     "name": "#%% md\n"
    }
   }
  },
  {
   "cell_type": "markdown",
   "source": [
    "Зачастую, чтобы задача больше походила на реальную составители добавляют всякие лишние детали. В топку их! Переформулируйте задачу, чтобы оставить только суть."
   ],
   "metadata": {
    "collapsed": false,
    "pycharm": {
     "name": "#%% md\n"
    }
   }
  },
  {
   "cell_type": "markdown",
   "source": [
    "Зачем  это нужно?\n",
    "\n",
    "* Вы начинаете лучше понимать задача\n",
    "* Вы учитесь преобразовывать задачи реального мира в программистские\n",
    "* Легче вычленить основные компоненты решения\n",
    "* Легче разбить на подзадачи\n",
    "* Легче гуглить задачу(понять на какую тему эта задача)"
   ],
   "metadata": {
    "collapsed": false,
    "pycharm": {
     "name": "#%% md\n"
    }
   }
  },
  {
   "cell_type": "markdown",
   "source": [
    "### Как упрощать формулировку?"
   ],
   "metadata": {
    "collapsed": false,
    "pycharm": {
     "name": "#%% md\n"
    }
   }
  },
  {
   "cell_type": "markdown",
   "source": [
    "* Формулировка должна быть строго программисткой/математической\n",
    "* Обобщите задачу"
   ],
   "metadata": {
    "collapsed": false,
    "pycharm": {
     "name": "#%% md\n"
    }
   }
  },
  {
   "cell_type": "markdown",
   "source": [
    "Как упростить задачу про банки???"
   ],
   "metadata": {
    "collapsed": false,
    "pycharm": {
     "name": "#%% md\n"
    }
   }
  },
  {
   "cell_type": "markdown",
   "source": [
    "Найдите сумму значений в списке при условии, что значений под 0-м индексом - 'rus'"
   ],
   "metadata": {
    "collapsed": false,
    "pycharm": {
     "name": "#%% md\n"
    }
   }
  },
  {
   "cell_type": "markdown",
   "source": [
    "## Попробуйте искусственно упростить задачу и посмотреть, что получится"
   ],
   "metadata": {
    "collapsed": false
   }
  },
  {
   "cell_type": "markdown",
   "source": [
    "Для этого мы просто добавляем или убавляем начальные условия"
   ],
   "metadata": {
    "collapsed": false,
    "pycharm": {
     "name": "#%% md\n"
    }
   }
  },
  {
   "cell_type": "markdown",
   "source": [
    "### Что нам это дает?"
   ],
   "metadata": {
    "collapsed": false,
    "pycharm": {
     "name": "#%% md\n"
    }
   }
  },
  {
   "cell_type": "markdown",
   "source": [
    "* Позволяет разбить на подзадачи\n",
    "* Поможет посмотреть на задачу с другой стороны\n",
    "* Мы что-то делаем, а не тупо пялимся в монитор, надеясь, что на нас сойдет благодать и идея решения придет сама собой"
   ],
   "metadata": {
    "collapsed": false,
    "pycharm": {
     "name": "#%% md\n"
    }
   }
  },
  {
   "cell_type": "markdown",
   "source": [
    "### Пример"
   ],
   "metadata": {
    "collapsed": false,
    "pycharm": {
     "name": "#%% md\n"
    }
   }
  },
  {
   "cell_type": "markdown",
   "source": [
    "Задача: Найдите самое маленькое число в списке произвольного размера\n",
    "\n",
    "Упростим задачу: Найти самое маленькое чилсо в списке размера 2\n",
    "Как решать: просто сравним 2 числа\n",
    "\n",
    "Чуть усложним: Найти самое маленькое чилсо в списке размера 3\n",
    "Как решать: Такс, а если мы знаем как найти самое маленькое из 2-х, то как расширить эту задачу до 3-х?\n",
    "\n",
    "Чуть усложним: размера 4\n",
    "\n",
    "Вернемся к исходной задаче: происзвольного размера"
   ],
   "metadata": {
    "collapsed": false,
    "pycharm": {
     "name": "#%% md\n"
    }
   }
  },
  {
   "cell_type": "markdown",
   "source": [
    "## Напишите алгоритм решения словами"
   ],
   "metadata": {
    "collapsed": false,
    "pycharm": {
     "name": "#%% md\n"
    }
   }
  },
  {
   "cell_type": "markdown",
   "source": [
    "## Начни с того, что ты уже делал"
   ],
   "metadata": {
    "collapsed": false,
    "pycharm": {
     "name": "#%% md\n"
    }
   }
  },
  {
   "cell_type": "markdown",
   "source": [
    "В начале каждого решения нам кажется, что проблема - это римское построение черепахой, ощетиненнное со всех сторон щитами и копьями. Но даже у черепахи есть слабые места - это части, которые мы уже знаем как делать!"
   ],
   "metadata": {
    "collapsed": false,
    "pycharm": {
     "name": "#%% md\n"
    }
   }
  },
  {
   "cell_type": "markdown",
   "source": [
    "### Что нам это даст?"
   ],
   "metadata": {
    "collapsed": false,
    "pycharm": {
     "name": "#%% md\n"
    }
   }
  },
  {
   "cell_type": "markdown",
   "source": [
    " * Срабатывает принцип: глаза боятся, а руки делают\n",
    " * Пока мы разбираемся с частями, которые знаем как делать мы можем лучше понять элементы, которые нам непонятны. То есть мы либо сможем их сходу решить, либо загуглить эти элементы"
   ],
   "metadata": {
    "collapsed": false,
    "pycharm": {
     "name": "#%% md\n"
    }
   }
  },
  {
   "cell_type": "markdown",
   "source": [
    "### Пример"
   ],
   "metadata": {
    "collapsed": false,
    "pycharm": {
     "name": "#%% md\n"
    }
   }
  },
  {
   "cell_type": "markdown",
   "source": [
    "Задача: у нас есть список чисел. Если сумма этих чисел оканчивается на 0, то мы должны вывести '0 в конце суммы', иначе 'нет 0 в конце суммы'"
   ],
   "metadata": {
    "collapsed": false,
    "pycharm": {
     "name": "#%% md\n"
    }
   }
  },
  {
   "cell_type": "markdown",
   "source": [
    "Что мы уже умеем делать?\n",
    "Что не умеем?"
   ],
   "metadata": {
    "collapsed": false,
    "pycharm": {
     "name": "#%% md\n"
    }
   }
  },
  {
   "cell_type": "markdown",
   "source": [
    "### Что мы уже умеем делать в задаче про банки?"
   ],
   "metadata": {
    "collapsed": false,
    "pycharm": {
     "name": "#%% md\n"
    }
   }
  },
  {
   "cell_type": "markdown",
   "source": [
    "## Эксперементировать, а не тыкать пальцем"
   ],
   "metadata": {
    "collapsed": false,
    "pycharm": {
     "name": "#%% md\n"
    }
   }
  },
  {
   "cell_type": "markdown",
   "source": [
    "### Что нам это даст?"
   ],
   "metadata": {
    "collapsed": false,
    "pycharm": {
     "name": "#%% md\n"
    }
   }
  },
  {
   "cell_type": "markdown",
   "source": [
    "В случае когда ваш код работает некорректно хочется просто опустить руки и ничего дальше не делать. Но это неверный путь. Чтобы решить эту проблему выдвините предположение о том в какой части ваш код может не работать. Далее надо придумать эксперимент, который подтвердит или опровергнет вашу догадку"
   ],
   "metadata": {
    "collapsed": false,
    "pycharm": {
     "name": "#%% md\n"
    }
   }
  },
  {
   "cell_type": "markdown",
   "source": [
    "### В чем разница?"
   ],
   "metadata": {
    "collapsed": false,
    "pycharm": {
     "name": "#%% md\n"
    }
   }
  },
  {
   "cell_type": "markdown",
   "source": [
    "\n",
    "* Эксперимент должен проверять четкосформулированное предположение\n",
    "* Вне зависимости от того подтвердит эксперимент гипотезу или нет делаются выводы\n",
    "* В случае необходимости ставится повторный эксперимент"
   ],
   "metadata": {
    "collapsed": false,
    "pycharm": {
     "name": "#%% md\n"
    }
   }
  },
  {
   "cell_type": "markdown",
   "source": [
    "### Пример"
   ],
   "metadata": {
    "collapsed": false,
    "pycharm": {
     "name": "#%% md\n"
    }
   }
  },
  {
   "cell_type": "markdown",
   "source": [
    "Задача: вам необходимо посчитать сумму чисел от 1 до числа n включительно, но вот незадача - код работает неверно. Как его починить?"
   ],
   "metadata": {
    "collapsed": false,
    "pycharm": {
     "name": "#%% md\n"
    }
   }
  },
  {
   "cell_type": "code",
   "source": [
    "n = 8\n",
    "digit_sum = 0\n",
    "for i in range(1, n+1):\n",
    "    digit_sum = digit_sum + i\n",
    "print(digit_sum)"
   ],
   "metadata": {
    "collapsed": false,
    "pycharm": {
     "name": "#%%\n"
    }
   },
   "execution_count": 12,
   "outputs": [
    {
     "name": "stdout",
     "output_type": "stream",
     "text": [
      "36\n"
     ]
    }
   ]
  },
  {
   "cell_type": "markdown",
   "source": [
    "## Не фрустрируй!"
   ],
   "metadata": {
    "collapsed": false
   }
  },
  {
   "cell_type": "markdown",
   "source": [
    "Фрустрация - это ощущение полной растеренности и нежелания ничего делать. Зачастую оно возникает при решение трудных задач"
   ],
   "metadata": {
    "collapsed": false
   }
  },
  {
   "cell_type": "markdown",
   "source": [
    "### Как бороться с фрустрацией?"
   ],
   "metadata": {
    "collapsed": false,
    "pycharm": {
     "name": "#%% md\n"
    }
   }
  },
  {
   "cell_type": "markdown",
   "source": [
    "Для борьбы с фрустрацией надо понять один принцип. Фрустрация - это не какой-то инстинкт, который невозможно побороть, как, например, инстинкт самосохранения, а просто защитная реакция мозга. Наш мозг создан так, чтобы максимально экономить силы, поэтому мозг всячески противется выполнению трудной работы"
   ],
   "metadata": {
    "collapsed": false,
    "pycharm": {
     "name": "#%% md\n"
    }
   }
  },
  {
   "cell_type": "markdown",
   "source": [
    "Лучший практический метод борьбы с фрустрацией - это составление плана, потому что тогда мы разбиваем большую и страшную задачу на простые этапы, которым наш мозг так сильно не противется"
   ],
   "metadata": {
    "collapsed": false,
    "pycharm": {
     "name": "#%% md\n"
    }
   }
  },
  {
   "cell_type": "markdown",
   "source": [
    "## Первым делом план(самолеты), ну, а код(девушки) потом"
   ],
   "metadata": {
    "collapsed": false
   }
  },
  {
   "cell_type": "markdown",
   "source": [
    "Планы бесполезны, но планирование незаменимо\n",
    "\n",
    "*Дуайт Дэвид Эйзенхауэр*"
   ],
   "metadata": {
    "collapsed": false,
    "pycharm": {
     "name": "#%% md\n"
    }
   }
  },
  {
   "cell_type": "markdown",
   "source": [
    "-У тебя есть решение?\n",
    "-Лучше, у меня есть план решения!"
   ],
   "metadata": {
    "collapsed": false,
    "pycharm": {
     "name": "#%% md\n"
    }
   }
  },
  {
   "cell_type": "markdown",
   "source": [
    " ### Зачем нужно иметь план?"
   ],
   "metadata": {
    "collapsed": false,
    "pycharm": {
     "name": "#%% md\n"
    }
   }
  },
  {
   "cell_type": "markdown",
   "source": [
    "* Когда мы решаем задачу без плана у нас есть только одна глобальная цель - решить задачу. C планом же у нас есть краткосрочные цели, которые постепенно приводят нас к цели\n",
    "* С планом легче сосредоточиться на задаче, потому что ты четко знаешь что делать\n",
    "* План защищает от фрустрации , защищая нас от следующей мысли: \"я наверное делаю что-то не так и вообще я никогда не решу эту задачу\".\n",
    "* В плане можно учесть свои сильные и слабые стороны"
   ],
   "metadata": {
    "collapsed": false,
    "pycharm": {
     "name": "#%% md\n"
    }
   }
  },
  {
   "cell_type": "markdown",
   "source": [
    "### Как составить план?"
   ],
   "metadata": {
    "collapsed": false,
    "pycharm": {
     "name": "#%% md\n"
    }
   }
  },
  {
   "cell_type": "markdown",
   "source": [
    "* Включайте в план пункты, которые я перечислил выше\n",
    "* Задумайтесь о ваших сильных и слабых сторонах как программиста\n",
    "* Если что-то идет не по плану, меняем план"
   ],
   "metadata": {
    "collapsed": false,
    "pycharm": {
     "name": "#%% md\n"
    }
   }
  },
  {
   "cell_type": "markdown",
   "source": [
    "### Пример плана"
   ],
   "metadata": {
    "collapsed": false,
    "pycharm": {
     "name": "#%% md\n"
    }
   }
  },
  {
   "cell_type": "markdown",
   "source": [
    "План, если все будет хорошо:"
   ],
   "metadata": {
    "collapsed": false,
    "pycharm": {
     "name": "#%% md\n"
    }
   }
  },
  {
   "cell_type": "markdown",
   "source": [
    "1. Ознакомиться с задачей\n",
    "2. Переформулировать задачу\n",
    "3. Определить на какую тему задача\n",
    "4. Вспомнить аналогичные задачи и посмотреть их решения\n",
    "5. Написать словесный алгоритм решения\n",
    "6. Подумать на какие части я могу разделить словесное решение\n",
    "7. Написать в коже части, которые я умею реализовывать\n",
    "8. Загуглить оставшиеся части\n",
    "9. Протестировать решение\n",
    "10. Посмотреть решения других людей"
   ],
   "metadata": {
    "collapsed": false,
    "pycharm": {
     "name": "#%% md\n"
    }
   }
  },
  {
   "cell_type": "markdown",
   "source": [
    "*Показать свои планы в notion*"
   ],
   "metadata": {
    "collapsed": false,
    "pycharm": {
     "name": "#%% md\n"
    }
   }
  },
  {
   "cell_type": "markdown",
   "source": [],
   "metadata": {
    "collapsed": false,
    "pycharm": {
     "name": "#%% md\n"
    }
   }
  }
 ],
 "metadata": {
  "kernelspec": {
   "display_name": "Python 3",
   "language": "python",
   "name": "python3"
  },
  "language_info": {
   "codemirror_mode": {
    "name": "ipython",
    "version": 2
   },
   "file_extension": ".py",
   "mimetype": "text/x-python",
   "name": "python",
   "nbconvert_exporter": "python",
   "pygments_lexer": "ipython2",
   "version": "2.7.6"
  }
 },
 "nbformat": 4,
 "nbformat_minor": 0
}